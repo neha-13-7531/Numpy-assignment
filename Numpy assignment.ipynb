{
 "cells": [
  {
   "cell_type": "markdown",
   "id": "32da8f8b-e4a0-49f9-a1df-ddc361e47721",
   "metadata": {},
   "source": [
    "# **Numpy**"
   ]
  },
  {
   "cell_type": "markdown",
   "id": "7cd21af5-5004-43ab-a3a5-67a513792025",
   "metadata": {},
   "source": [
    "# **What is Numpy ?**\n",
    "- The numpy stands for Numerical python.\n",
    "- numpy is the library in python, used for mathematical calculations.\n",
    "- It provide support for large multi-dimensional **arrays** and matrices."
   ]
  },
  {
   "cell_type": "markdown",
   "id": "c6e3ac79-4695-4478-a580-a4a919727028",
   "metadata": {},
   "source": [
    "# Data structures in numpy\n",
    "**1.N-dimensional array(n-D array):**\n",
    "- The n-D array have N dimensions.\n",
    "- n-D array can represent Vectors(1-D array),matrices(2-D array), or tensors(3-D array).\n",
    "- The n-D array are homogeneous(It contain only similar type of data).\n",
    "- n-D array are have fixed size.once we created we cannot change size of this array.\n",
    "\n",
    "**2.Structured array**:\n",
    "- It is also known as **Record array**.\n",
    "- structured array are heterogeneous array, i.e it stores the different types of data.\n",
    "\n",
    "**Masked array**:\n",
    "- These arrays are useful to deal with datasets contaning missing values,invalid data or placeholder."
   ]
  },
  {
   "cell_type": "markdown",
   "id": "90e623a7-7bd2-403b-b215-a2c682be98f8",
   "metadata": {},
   "source": [
    "# **Data types in structured arrays.**\n",
    "\n",
    "**1.'i' or 'i4'**: It used as integer(int).\n",
    "\n",
    "**2.'U10'** : It is used as a string(str).\n",
    "\n",
    "**3. 'f' or 'f8'** : It is used as a float.\n",
    "\n",
    "**4.'bool'** : It is used as a boolean.i.e give  output as true /false."
   ]
  },
  {
   "cell_type": "markdown",
   "id": "fe42f18b-e5e1-447d-bb29-99620e9aadf2",
   "metadata": {},
   "source": [
    "# **Vectors** \n",
    "- It is  one dimensional array (1-D array).\n",
    "\n",
    "# **Matrix**\n",
    "- It is also known as **2-D tensor**. i.e arrays with rows  columns.\n",
    "\n",
    "# **Tensor**\n",
    "- It is known as n-D array.i.e it have 3 or more dimensions.\n"
   ]
  },
  {
   "cell_type": "markdown",
   "id": "f56b67c2-57be-4a61-ad13-036538183c73",
   "metadata": {},
   "source": [
    "# How to import numpy ?\n",
    "- use **import numpy as np**"
   ]
  },
  {
   "cell_type": "markdown",
   "id": "ff4a626d-d868-44b7-9538-94b298f208d7",
   "metadata": {},
   "source": [
    "**import library**"
   ]
  },
  {
   "cell_type": "code",
   "execution_count": 10,
   "id": "3e2bac5d-67d4-4eb3-ab77-4816b83cb576",
   "metadata": {},
   "outputs": [],
   "source": [
    "import numpy as np"
   ]
  },
  {
   "cell_type": "markdown",
   "id": "48640129-382b-4788-b650-acf22adfd650",
   "metadata": {},
   "source": [
    "**Q.1 create a 2D array of shape(3,4) filled with all 1s.**"
   ]
  },
  {
   "cell_type": "markdown",
   "id": "3c8938a3-91fe-4859-839f-0b09a37be4f3",
   "metadata": {},
   "source": [
    "**1.ones**: ***To create an array filled with 1. mention the shape of array.(rows,column)***"
   ]
  },
  {
   "cell_type": "code",
   "execution_count": 13,
   "id": "eb0f831f-1052-43bf-a6e4-30f052dc28d2",
   "metadata": {},
   "outputs": [
    {
     "name": "stdout",
     "output_type": "stream",
     "text": [
      "[[1. 1. 1. 1.]\n",
      " [1. 1. 1. 1.]\n",
      " [1. 1. 1. 1.]]\n"
     ]
    }
   ],
   "source": [
    "a= np.ones((3,4)) # it craete array filled with all 1s \n",
    "print(a)"
   ]
  },
  {
   "cell_type": "markdown",
   "id": "c7d2a2f9-4520-44a5-ae9e-d5d73bb6f51e",
   "metadata": {},
   "source": [
    "**Q.2 create a 1D numpy array with values from 10 to 25 with a step of 4.**"
   ]
  },
  {
   "cell_type": "markdown",
   "id": "5cb3355b-6dff-469d-9fd2-33dfa4f5cbe3",
   "metadata": {},
   "source": [
    "**2.arange** : ***To create an array with evenly specified in the range.***"
   ]
  },
  {
   "cell_type": "code",
   "execution_count": 16,
   "id": "293813de-4cab-4d7f-9dec-abd13c98e420",
   "metadata": {},
   "outputs": [
    {
     "name": "stdout",
     "output_type": "stream",
     "text": [
      "[10 14 18 22]\n"
     ]
    }
   ],
   "source": [
    "b=np.arange(10,25,4) # to arrange the matrix use arange(start,stop,step).create an array with  evenly specified in the range\n",
    "print(b)            # it display in integer value"
   ]
  },
  {
   "cell_type": "markdown",
   "id": "98aaa8b4-0e75-4f85-a7df-55184a3ee228",
   "metadata": {},
   "source": [
    "**Q.3 Create a 4x4 identity matrix.**"
   ]
  },
  {
   "cell_type": "markdown",
   "id": "d793c804-10eb-407d-bd36-e2dd13ee9ff9",
   "metadata": {},
   "source": [
    "**3.identity** : ***It use **eye()** method To create identity matrix(specify number of rows).***\n"
   ]
  },
  {
   "cell_type": "code",
   "execution_count": 19,
   "id": "6fe80b78-b6fc-48ac-a359-acdc3122399f",
   "metadata": {},
   "outputs": [
    {
     "name": "stdout",
     "output_type": "stream",
     "text": [
      "[[1. 0. 0. 0.]\n",
      " [0. 1. 0. 0.]\n",
      " [0. 0. 1. 0.]\n",
      " [0. 0. 0. 1.]]\n"
     ]
    }
   ],
   "source": [
    "c=np.eye(4) # to create identity matrix(specify number of rows)\n",
    "print(c)"
   ]
  },
  {
   "cell_type": "markdown",
   "id": "e937793d-a9aa-4188-aaeb-8573afcb6238",
   "metadata": {},
   "source": [
    "**Q.4 create an array with 5 values evenly spaced between 0 and 1.**"
   ]
  },
  {
   "cell_type": "markdown",
   "id": "1ab31b73-1cea-4b69-97d1-b79c8aa20fb9",
   "metadata": {},
   "source": [
    "**4.linspace** : ***Create an array of evenly spaced number(specified interval-(display in float)).***"
   ]
  },
  {
   "cell_type": "code",
   "execution_count": 22,
   "id": "640ad2a8-04ee-417f-9885-e142af3ae337",
   "metadata": {},
   "outputs": [
    {
     "name": "stdout",
     "output_type": "stream",
     "text": [
      "[0.   0.25 0.5  0.75 1.  ]\n"
     ]
    }
   ],
   "source": [
    "d=np.linspace(0,1,5) # create an array of evenly spaced number(specified interval-(display in float)) linspace(start,stop,step)\n",
    "print(d)"
   ]
  },
  {
   "cell_type": "markdown",
   "id": "e3e1b7e1-ed31-4412-aa4a-4421af4e814e",
   "metadata": {},
   "source": [
    "**Q.5 create a 1D numpy array with values from 10 to 50 with a step of 5.**"
   ]
  },
  {
   "cell_type": "code",
   "execution_count": 24,
   "id": "d39a32cd-4f36-49ae-a272-c1e2369b6caf",
   "metadata": {},
   "outputs": [
    {
     "name": "stdout",
     "output_type": "stream",
     "text": [
      "[10 15 20 25 30 35 40 45]\n"
     ]
    }
   ],
   "source": [
    "e=np.arange(10,50,5) # to arrange the matrix use arange(start,stop,step).create an array with  evenly specified in the range\n",
    "print(e)"
   ]
  },
  {
   "cell_type": "markdown",
   "id": "3f9585b6-cd5a-48ad-810b-bd8eb1272629",
   "metadata": {},
   "source": [
    "**Q.6 craete a 3X3 array with random integer between 10 and 99.** "
   ]
  },
  {
   "cell_type": "markdown",
   "id": "6d74824f-590d-4054-995b-817f548ad33c",
   "metadata": {},
   "source": [
    "**5.size**: ***To give size of array.***"
   ]
  },
  {
   "cell_type": "code",
   "execution_count": 27,
   "id": "509c82d9-664f-4d5d-bb73-7085cc28f19c",
   "metadata": {},
   "outputs": [
    {
     "name": "stdout",
     "output_type": "stream",
     "text": [
      "[[65 45 64]\n",
      " [91 76 17]\n",
      " [64 62 55]]\n"
     ]
    }
   ],
   "source": [
    "f=np.random.randint(10,99,size=(3,3)) # random.randint () use for it select number in randomly.\n",
    "print(f)"
   ]
  },
  {
   "cell_type": "markdown",
   "id": "5ba3f797-fb43-4053-9802-7358b858fc76",
   "metadata": {},
   "source": [
    "**Q.7 create an array of shape(2,3) filled with zeros,and another filled with sevens.**"
   ]
  },
  {
   "cell_type": "code",
   "execution_count": 29,
   "id": "744f3b6f-50da-4a49-abe3-8a69e0f6e8bd",
   "metadata": {},
   "outputs": [
    {
     "name": "stdout",
     "output_type": "stream",
     "text": [
      "Zero array is:\n",
      " [[0. 0. 0.]\n",
      " [0. 0. 0.]]\n",
      "Sevens array is:\n",
      " [[7 7 7]\n",
      " [7 7 7]]\n"
     ]
    }
   ],
   "source": [
    "zero_array=np.zeros((2,3)) # to filled with zeros.\n",
    "\n",
    "sevens_array=np.full((2,3),7) # full() use to filled with any number except 1 or 0\n",
    "print(\"Zero array is:\\n\",zero_array)\n",
    "print(\"Sevens array is:\\n\",sevens_array)"
   ]
  },
  {
   "cell_type": "markdown",
   "id": "89f70e16-b2bf-41ca-8e22-4103fd743f0f",
   "metadata": {},
   "source": [
    "**Q.8 Create an array with values from 1 to 12 and reshape it to a 3X4 matrix.** "
   ]
  },
  {
   "cell_type": "code",
   "execution_count": 31,
   "id": "4fbcc77f-58b9-4c67-8658-e0cb1e0322bb",
   "metadata": {},
   "outputs": [
    {
     "name": "stdout",
     "output_type": "stream",
     "text": [
      "[[ 1  2  3  4]\n",
      " [ 5  6  7  8]\n",
      " [ 9 10 11 12]]\n"
     ]
    }
   ],
   "source": [
    "h=np.arange(1,13).reshape(3,4) #  reshape use for it rearrange the element to fit in new shape. \n",
    "print(h)"
   ]
  },
  {
   "cell_type": "markdown",
   "id": "f6801734-85e7-4467-9624-fd52357cf7a3",
   "metadata": {},
   "source": [
    "**Q.9 Create a 2D array of shape (5,2) and display its attributes.**"
   ]
  },
  {
   "cell_type": "code",
   "execution_count": 33,
   "id": "a55acd79-44fb-4aff-b84d-631150efbefb",
   "metadata": {},
   "outputs": [
    {
     "name": "stdout",
     "output_type": "stream",
     "text": [
      "[[ 7  7]\n",
      " [ 3 11]\n",
      " [ 5  9]\n",
      " [11  1]\n",
      " [12 10]]\n",
      "Dimensions of array is: 2\n",
      "The shape of array is: (5, 2)\n",
      "The Data type of array is: int32\n"
     ]
    }
   ],
   "source": [
    "p=np.random.randint(1,15,size=(5,2)) # create array it take random numbers between 1 to 15\n",
    "print(p)\n",
    "\n",
    "p.ndim # to find dimension of array\n",
    "print(\"Dimensions of array is:\",p.ndim)\n",
    "\n",
    "p.shape # to find shape of an array\n",
    "print(\"The shape of array is:\",p.shape)\n",
    "\n",
    "p.dtype # to get data type of elements in array\n",
    "print(\"The Data type of array is:\",p.dtype)\n",
    "\n",
    "\n",
    "\n",
    "\n",
    "\n"
   ]
  },
  {
   "cell_type": "markdown",
   "id": "d4b0d2df-9fbd-4204-8f4c-a525f1012c4f",
   "metadata": {},
   "source": [
    "**Q.10 create a 2D array and access its element.first element,second element , last element.**"
   ]
  },
  {
   "cell_type": "code",
   "execution_count": 35,
   "id": "99e73525-45dd-4282-9d7e-eadd1b33a647",
   "metadata": {},
   "outputs": [
    {
     "name": "stdout",
     "output_type": "stream",
     "text": [
      "First row: [10 20 30]\n",
      "Second column: [20 50 80]\n",
      "Last element: 90\n"
     ]
    }
   ],
   "source": [
    "x = np.array([[10, 20, 30], [40, 50, 60], [70, 80, 90]]) # create 2D array\n",
    "\n",
    "print(\"First row:\", x[0]) # to get first element in array\n",
    "print(\"Second column:\", x[:, 1])  # to get second element in the array\n",
    "print(\"Last element:\", x[-1, -1]) # to get last elements in the array (-1 for last rows,and last column)\n"
   ]
  },
  {
   "cell_type": "markdown",
   "id": "990a1fd4-1754-48e9-bdb0-0232d032ccba",
   "metadata": {},
   "source": [
    "**Q.1 Create a 1D array of numbers from 0 to 9.**"
   ]
  },
  {
   "cell_type": "code",
   "execution_count": 37,
   "id": "4c49ca13-f265-4708-9e1c-a95af6d51375",
   "metadata": {},
   "outputs": [
    {
     "name": "stdout",
     "output_type": "stream",
     "text": [
      "[0 1 2 3 4 5 6 7 8]\n"
     ]
    }
   ],
   "source": [
    "array1=np.arange(0,9)\n",
    "print(array1)"
   ]
  },
  {
   "cell_type": "markdown",
   "id": "2ddf7856-b717-4999-af5b-2ce76add27bf",
   "metadata": {},
   "source": [
    "**Q.2 Find the mean, median, standard deviation, and sum of elements in an array.**"
   ]
  },
  {
   "cell_type": "markdown",
   "id": "c2c647bc-78d3-4167-b147-9eadcf826e0f",
   "metadata": {},
   "source": [
    "# Mathematical operation on arrays\n",
    "\n",
    "**1.mean()**: ***To find mean(average) of all the items.***\n",
    "\n",
    "**2.std()** : ***To find standard deviation of the all items.***\n",
    "\n",
    "**3.median()** : ***To find median of items.***\n",
    "\n",
    "**4.sum()**: ***To find sum(total) of all items.***\n",
    "\n",
    "**5.min()** : ***To find minimum value in items.***\n",
    "\n",
    "**6.max()** : ***To find maximum value in items.***\n",
    "\n",
    "**7.argmax()** :***It return index value of max value.***\n",
    "\n",
    "**8.argmin()** :***It return index value of min value.***"
   ]
  },
  {
   "cell_type": "code",
   "execution_count": 40,
   "id": "76ca6b9c-e097-4dc1-86de-d479c41262ae",
   "metadata": {},
   "outputs": [
    {
     "name": "stdout",
     "output_type": "stream",
     "text": [
      "[10 20 30 40 50 60]\n",
      "Mean 35.0\n",
      "Median : 17.07825127659933\n",
      "standard deviation: 210\n",
      "Median: 35.0\n"
     ]
    }
   ],
   "source": [
    "arr=np.array([10,20,30,40,50,60])\n",
    "print(arr)\n",
    "\n",
    "print(\"Mean\",np.mean(arr)) # to find mean(average) of all items\n",
    "print(\"Median :\",np.std(arr)) # to find standard deviation of all items\n",
    "print(\"standard deviation:\",np.sum(arr)) # to get sum(total) of all items\n",
    "print(\"Median:\",np.median(arr)) # to get median of all items"
   ]
  },
  {
   "cell_type": "markdown",
   "id": "afcd8575-7c3c-4aaf-8983-6c5e150b713f",
   "metadata": {},
   "source": [
    "**Q.3 Find the maximum and minimum values in an array and their indices.**"
   ]
  },
  {
   "cell_type": "code",
   "execution_count": 42,
   "id": "3119a378-5843-403e-8a8c-927b0cc57678",
   "metadata": {},
   "outputs": [
    {
     "name": "stdout",
     "output_type": "stream",
     "text": [
      "[10 20 30 40 50 60]\n",
      "Min: 10\n",
      "Max: 60\n",
      "Index of min value: 0\n",
      "Index of max value: 5\n"
     ]
    }
   ],
   "source": [
    "arr=np.array([10,20,30,40,50,60])\n",
    "print(arr)\n",
    "\n",
    "print(\"Min:\",np.min(arr)) # to get min value of items\n",
    "print(\"Max:\",np.max(arr)) # to get max value of items\n",
    " \n",
    "print(\"Index of min value:\",np.argmin(arr)) # to get index value of min value\n",
    "print(\"Index of max value:\",np.argmax(arr)) # to get index value of max value"
   ]
  },
  {
   "cell_type": "markdown",
   "id": "95fde3b3-f4dd-4842-8de4-9496f442db85",
   "metadata": {},
   "source": [
    "# Random Number Methods\n",
    "\n",
    "**1.random.randint()** : ***generate  and return an array of the given size,and the number in th range.***\n",
    "\n",
    "**2.random.rand(size)** : ***use  return in float,it return 1D array with randomvalues in the range (0-1).***\n",
    "\n",
    "**3.random.randn(rows,column)** : ***value range is(-infinity to +infinity)  each element mean is 0 and SD=1 .***"
   ]
  },
  {
   "cell_type": "markdown",
   "id": "518d298f-0280-4196-be25-32bbef03ac7f",
   "metadata": {},
   "source": [
    "**Q.4 Generate a 1D array of 10 random integers between 1 and 100.**"
   ]
  },
  {
   "cell_type": "code",
   "execution_count": 45,
   "id": "67bb60ba-ab4e-4505-8417-6db890c950d8",
   "metadata": {},
   "outputs": [
    {
     "name": "stdout",
     "output_type": "stream",
     "text": [
      "[29 39 19 88 32 16 13 89 90 10]\n"
     ]
    }
   ],
   "source": [
    "random_array=np.random.randint(1,101,10) # to random number in the range\n",
    "print(random_array)"
   ]
  },
  {
   "cell_type": "markdown",
   "id": "fe2bed50-858e-41d3-be4a-7c4df55e9ac0",
   "metadata": {},
   "source": [
    "**Q.5 Create a 3x3 array of random floats.**"
   ]
  },
  {
   "cell_type": "code",
   "execution_count": 47,
   "id": "2ec66b26-7bb4-40c7-aa03-4a6ea57afe1e",
   "metadata": {},
   "outputs": [
    {
     "name": "stdout",
     "output_type": "stream",
     "text": [
      "[[ 0.67205489  0.5050971   0.60316209]\n",
      " [-1.20547692  2.13841487  0.02081219]\n",
      " [ 1.67535516 -0.89498074 -0.70429856]]\n"
     ]
    }
   ],
   "source": [
    "rand_array=np.random.randn(3,3) # to get random float array it  also include negative values range value(-infinity to +infinity),randn generate and return an array with normal distribution\n",
    "print(rand_array)"
   ]
  },
  {
   "cell_type": "markdown",
   "id": "70c0f10f-aedb-49d7-93f3-37948b73a309",
   "metadata": {},
   "source": [
    "**Q.6 Generate 1000 samples from a normal distribution and compute mean and std.**"
   ]
  },
  {
   "cell_type": "code",
   "execution_count": 49,
   "id": "80a2e807-7f92-469b-a072-cf16b8dfd605",
   "metadata": {},
   "outputs": [
    {
     "name": "stdout",
     "output_type": "stream",
     "text": [
      "Mean: -0.01861097816906431\n",
      "Standard deviation: 0.9900476451156083\n"
     ]
    }
   ],
   "source": [
    "sample=np.random.randn(1000)\n",
    "\n",
    "\n",
    "print(\"Mean:\",np.mean(sample))\n",
    "print(\"Standard deviation:\",np.std(sample))"
   ]
  },
  {
   "cell_type": "markdown",
   "id": "591f6a44-3a81-4656-b7ca-6571d2280618",
   "metadata": {},
   "source": [
    "# Array manipulation\n",
    "\n",
    "**1.np.sort()** : ***Return the sorted values in the array.default sorting is in ascending order.***\n",
    "\n",
    "**2.np.unique()** :***Return array  an sorted with unique values.***\n",
    "\n",
    "**3.np.concatenate()** :***Return the mergerd array, can join the two or more than two array.***\n"
   ]
  },
  {
   "cell_type": "markdown",
   "id": "91a8eaa0-7b9b-4156-820e-3bbfd2f2f86e",
   "metadata": {},
   "source": [
    "**Q.7 Get unique values from an array and their counts.**"
   ]
  },
  {
   "cell_type": "code",
   "execution_count": 52,
   "id": "7f3646f4-8bac-456d-9331-8db8e200eaa7",
   "metadata": {},
   "outputs": [
    {
     "name": "stdout",
     "output_type": "stream",
     "text": [
      "[1 2 3 4 7 5 3 4]\n",
      "Unique values are: [1 2 3 4 5 7]\n"
     ]
    }
   ],
   "source": [
    "a=np.array([1,2,3,4,7,5,3,4])\n",
    "print(a)\n",
    "\n",
    "print(\"Unique values are:\",np.unique(a))\n"
   ]
  },
  {
   "cell_type": "markdown",
   "id": "6c347fca-6ea3-4316-afbb-702633566390",
   "metadata": {},
   "source": [
    "**Q.8 Generate a 2D array of shape (5, 5) from a normal distribution with mean=50 and std=10.**"
   ]
  },
  {
   "cell_type": "code",
   "execution_count": 54,
   "id": "9007814e-502c-495b-ae5e-fec39cd0e6ba",
   "metadata": {},
   "outputs": [
    {
     "name": "stdout",
     "output_type": "stream",
     "text": [
      "[[60.67238531 50.66714504 23.05506678 55.67370939 45.94720404]\n",
      " [54.68734496 35.18594317 41.06435156 60.93938887 38.34158827]\n",
      " [60.15137739 43.55010152 45.14313248 70.48447894 49.55087627]\n",
      " [31.08797307 40.45286887 55.37698407 62.40953715 35.62525239]\n",
      " [58.03347849 48.24852119 60.90909415 43.76301157 52.90717023]]\n"
     ]
    }
   ],
   "source": [
    "mean=50\n",
    "std=10\n",
    "v=np.random.randn(5,5) * std + mean\n",
    "print(v)"
   ]
  },
  {
   "cell_type": "markdown",
   "id": "ce881df7-906f-44c6-b933-74f9bbfa7fc9",
   "metadata": {},
   "source": [
    "**Q.9 Create a NumPy array of even numbers from 2 to 20.**"
   ]
  },
  {
   "cell_type": "code",
   "execution_count": 56,
   "id": "f2afae54-5f3e-4d4a-a8fa-02756a5cdce7",
   "metadata": {},
   "outputs": [
    {
     "name": "stdout",
     "output_type": "stream",
     "text": [
      "Even array is: [ 2  4  6  8 10 12 14 16 18]\n"
     ]
    }
   ],
   "source": [
    "even_array=np.arange(2,20,2)\n",
    "print(\"Even array is:\",even_array)"
   ]
  },
  {
   "cell_type": "markdown",
   "id": "97a9f0e0-6010-4df5-b685-f89d4dec0e20",
   "metadata": {},
   "source": [
    "**Q.10 Find the shape, size, and data type of the array a = np.array([[1, 2], [3, 4]]).**"
   ]
  },
  {
   "cell_type": "code",
   "execution_count": 58,
   "id": "8a8d7ad8-7a5e-42fd-a326-3e4a87eef7d3",
   "metadata": {},
   "outputs": [
    {
     "name": "stdout",
     "output_type": "stream",
     "text": [
      "Shape of array: (2, 2)\n",
      "Size of array: 4\n",
      "Data types of array: int32\n"
     ]
    }
   ],
   "source": [
    "a=np.array([[1,2],[3,4]])\n",
    "print(\"Shape of array:\",a.shape) # to get shape of array\n",
    "print(\"Size of array:\",a.size) # to get size of an array \n",
    "print(\"Data types of array:\",a.dtype) # to get data types of array\n",
    "\n",
    "\n"
   ]
  },
  {
   "cell_type": "markdown",
   "id": "6872aa59-25af-46d8-a98a-3293c151e662",
   "metadata": {},
   "source": [
    "**Q.11 Generate a 1D array of 5 random numbers between 0 and 1.**"
   ]
  },
  {
   "cell_type": "code",
   "execution_count": 60,
   "id": "417d0191-f269-4306-8e69-384588df22b1",
   "metadata": {},
   "outputs": [
    {
     "name": "stdout",
     "output_type": "stream",
     "text": [
      "[0.51980591 0.30434891 0.13813128 0.23397164 0.77480234]\n"
     ]
    }
   ],
   "source": [
    "random_array=np.random.rand(5) # to random number in the range\n",
    "print(random_array)"
   ]
  },
  {
   "cell_type": "markdown",
   "id": "5265b1e0-15ab-47b6-a7dd-faf8ab04005b",
   "metadata": {},
   "source": [
    "**Q.12 Find the maximum, minimum, and sum of elements in the array [5, 8, 2, 9, 1].**"
   ]
  },
  {
   "cell_type": "code",
   "execution_count": 62,
   "id": "4d15d107-513c-4859-93a6-a9103485cf24",
   "metadata": {},
   "outputs": [
    {
     "name": "stdout",
     "output_type": "stream",
     "text": [
      "maximum item: 9\n",
      "minimum item: 1\n",
      "sum of array: 25\n"
     ]
    }
   ],
   "source": [
    "b=np.array([5, 8, 2, 9, 1])\n",
    "print(\"maximum item:\",np.max(b)) # to get maximum item\n",
    "print(\"minimum item:\",np.min(b)) # to get minimum value\n",
    "print(\"sum of array:\",np.sum(b)) # to get sum of items"
   ]
  },
  {
   "cell_type": "markdown",
   "id": "14dc5845-5878-4adb-9a20-97374c680865",
   "metadata": {},
   "source": [
    "**Q.13 Get the first 3 elements from the array [10, 20, 30, 40, 50].**"
   ]
  },
  {
   "cell_type": "code",
   "execution_count": 64,
   "id": "d552bb76-92fa-4e7c-9157-477590765ffa",
   "metadata": {},
   "outputs": [
    {
     "name": "stdout",
     "output_type": "stream",
     "text": [
      "First three elements are: [10 20 30]\n"
     ]
    }
   ],
   "source": [
    "c=np.array([10,20,30,40,50])\n",
    "print(\"First three elements are:\",c[:3]) # c[:3] it return first three element in the array"
   ]
  },
  {
   "cell_type": "markdown",
   "id": "b16a9fe9-861a-4120-8fd1-d5a88131ae23",
   "metadata": {},
   "source": [
    "# Mathematical Operation on Matrix\n",
    "\n",
    "**1.Addition**: ***Adds the corresponding elements of matrices.***\n",
    "\n",
    "**2.Subtraction**:***Subtracts one matrix from another element wise.***\n",
    "\n",
    "**3.multiplication**:***It multiplies every element in the matrix.***\n",
    "\n",
    "**4.dot product**:***It multiplies the row element in first matrix to column of  second matrix.***\n",
    "\n",
    "**5.Transpose**: ***It convert the row into the column.***"
   ]
  },
  {
   "cell_type": "markdown",
   "id": "462d5237-8e5c-4af4-9a29-f6d9ecee9949",
   "metadata": {},
   "source": [
    "**Q.1 Given two arrays,add,subtract,mulitiply them element-wise.**"
   ]
  },
  {
   "cell_type": "code",
   "execution_count": 67,
   "id": "38a6ace3-0e92-43e7-970a-d495eb9ac19d",
   "metadata": {},
   "outputs": [
    {
     "name": "stdout",
     "output_type": "stream",
     "text": [
      "Addition of two matrix is:\n",
      " [[ 7 11]\n",
      " [ 8 11]]\n",
      "Subtraction of two matrix is:\n",
      " [[-3 -1]\n",
      " [ 6  5]]\n",
      "Multiplication of two matrix is:\n",
      " [[10 30]\n",
      " [ 7 24]]\n"
     ]
    }
   ],
   "source": [
    "A=np.array([[2,5],[7,8]]) # take first array\n",
    "B=np.array([[5,6],[1,3]]) #  take second array\n",
    "Addition=A + B # to add two matrix\n",
    "print(\"Addition of two matrix is:\\n\",Addition) \n",
    "\n",
    "subtraction=A - B # to subtraction of two matrix\n",
    "print(\"Subtraction of two matrix is:\\n\",subtraction)\n",
    "\n",
    "multiplication=A * B # to multiply the two matrix\n",
    "print(\"Multiplication of two matrix is:\\n\",multiplication)"
   ]
  },
  {
   "cell_type": "markdown",
   "id": "919e3881-e8e8-4fde-87fe-6d3503883e45",
   "metadata": {},
   "source": [
    "**Q.2 create two 2X2 numpy arrays and perform matrix addition.**"
   ]
  },
  {
   "cell_type": "code",
   "execution_count": 69,
   "id": "b6621169-f202-44f9-9249-6aa08d4c3c90",
   "metadata": {},
   "outputs": [
    {
     "name": "stdout",
     "output_type": "stream",
     "text": [
      "Addition of two matrix is:\n",
      " [[ 60  80]\n",
      " [100 120]]\n"
     ]
    }
   ],
   "source": [
    "C=np.array([[10,20],[30,40]])\n",
    "D=np.array([[50,60],[70,80]])\n",
    "Add=C + D # to add the element of two matrix\n",
    "print(\"Addition of two matrix is:\\n\",Add)"
   ]
  },
  {
   "cell_type": "markdown",
   "id": "cda2963e-a28a-45e1-931f-16b68953adb9",
   "metadata": {},
   "source": [
    "**Q.3 create a 2X3 matrix and 3X2 matrix, then perform matrix multiplication using numpy.**"
   ]
  },
  {
   "cell_type": "code",
   "execution_count": 71,
   "id": "3ee9ecb1-3afc-483c-b01e-c38496739a35",
   "metadata": {},
   "outputs": [
    {
     "name": "stdout",
     "output_type": "stream",
     "text": [
      "Multiplication is:\n",
      " [[ 31  46]\n",
      " [ 73 106]]\n"
     ]
    }
   ],
   "source": [
    "matrix_1=np.array([[1,2,3],[4,5,6]]) # create 2X3 matrix\n",
    "matrix_2=np.array([[2,3],[7,8],[5,9]]) # create 3X2 matrix\n",
    "Mul=np.dot(matrix_1 ,matrix_2) # dot use for multiplies \n",
    "print(\"Multiplication is:\\n\",Mul)"
   ]
  },
  {
   "cell_type": "markdown",
   "id": "41d78d1e-e7dd-4e73-96d6-8af7d81cc048",
   "metadata": {},
   "source": [
    "**Q.4 create a two 3X3 matrix and subtract  the second from first.**"
   ]
  },
  {
   "cell_type": "code",
   "execution_count": 73,
   "id": "a22d4921-1020-49d6-85f3-0b90f9546fa0",
   "metadata": {},
   "outputs": [
    {
     "name": "stdout",
     "output_type": "stream",
     "text": [
      "Subtraction is:\n",
      " [[3 3 0]\n",
      " [7 7 7]\n",
      " [7 7 7]]\n"
     ]
    }
   ],
   "source": [
    "matrix_1=np.array([[1,2,3],[4,5,6],[7,8,9]])\n",
    "matrix_2=np.array([[4,5,3],[11,12,13],[14,15,16]])\n",
    "Subtraction=matrix_2 - matrix_1\n",
    "print(\"Subtraction is:\\n\",Subtraction)"
   ]
  },
  {
   "cell_type": "markdown",
   "id": "2174ab52-cfc3-4722-89f2-35f920379d54",
   "metadata": {},
   "source": [
    "# Random Sampling\n",
    "- It randomly picks values rom a given matrix. \n",
    "- we use **np.random.choice**, It for only rows.\n",
    "- **flatten** use for to convert the 2D array into 1D array.\n",
    "\n",
    "# Random Shuffle\n",
    "- shuffle for rearange the row .\n",
    "- we use **np.random.shuffle()**"
   ]
  },
  {
   "cell_type": "markdown",
   "id": "e3c03339-7769-4856-8e0f-00c59999cbe1",
   "metadata": {},
   "source": [
    "**Q.5 create 1D array with values from 10 to 20.randomly pick 3 element without replacement.**"
   ]
  },
  {
   "cell_type": "code",
   "execution_count": 76,
   "id": "92e63a21-72ff-4615-95f3-104718e8d6ff",
   "metadata": {},
   "outputs": [
    {
     "name": "stdout",
     "output_type": "stream",
     "text": [
      "[18 20 10]\n"
     ]
    }
   ],
   "source": [
    "E=np.arange(10,21) # take array range from 10 to 20\n",
    "random_array=np.random.choice(E,size=3,replace=False) # replace =False for it take element without any replacement\n",
    "print(random_array)       # random.choice for to  choose the element randomly"
   ]
  },
  {
   "cell_type": "markdown",
   "id": "7f68b330-ad6b-4c38-87be-555445e8533e",
   "metadata": {},
   "source": [
    "**Q.6 create a 4X3 matrix.randomly select one of the rows.**"
   ]
  },
  {
   "cell_type": "code",
   "execution_count": 78,
   "id": "6887d11c-452f-417a-958f-5c7066dc8109",
   "metadata": {},
   "outputs": [
    {
     "name": "stdout",
     "output_type": "stream",
     "text": [
      "[2]\n"
     ]
    }
   ],
   "source": [
    "matrix=np.array([[1,2,3,4],[5,6,7,8],[9,11,12,10]])\n",
    "rows=np.random.choice(matrix.shape[0],size=1,replace=False) # to  choose randomly any row\n",
    "print(rows)"
   ]
  },
  {
   "cell_type": "markdown",
   "id": "407c1b2c-c4a4-4a21-93ac-209d07e2e12f",
   "metadata": {},
   "source": [
    "**Q.7 create an array with values from 1 to 10 and shuffle it in place.**"
   ]
  },
  {
   "cell_type": "code",
   "execution_count": 80,
   "id": "1872ef12-6db8-471a-b6e4-440e7031f02c",
   "metadata": {},
   "outputs": [
    {
     "name": "stdout",
     "output_type": "stream",
     "text": [
      "[10  3  6  1  5  2  8  7  4  9]\n"
     ]
    }
   ],
   "source": [
    "N=np.arange(1,11)\n",
    "np.random.shuffle(N) # shuffle for rearange the row \n",
    "print(N)"
   ]
  },
  {
   "cell_type": "markdown",
   "id": "b0a9b562-164b-46d6-a440-b46d27777261",
   "metadata": {},
   "source": [
    "# Comparision in numpy \n",
    "- It gives the out put in **boolean(true/false)**\n",
    "\n",
    "**1.==** :***First matrix is equal to second matrix.***\n",
    "\n",
    "**2.!=** : ***First matrix is not equal to second matrix.***\n",
    "\n",
    "**3.>** : ***First matrix element is grater than second.***\n",
    "\n",
    "**4.<** :***First matrix element is less than second matrix element.***\n",
    "\n",
    "**5.>=** : ***First matrix element is grater than or equal to second.***\n",
    "\n",
    "**6.<=** :***First matrix element is less than or equal to second matrix element.***"
   ]
  },
  {
   "cell_type": "markdown",
   "id": "fd6309e1-e789-4d23-b930-8969e5f4aa49",
   "metadata": {},
   "source": [
    "**Q.8 create two 2X2 matrices and return a boolean matrix where the first is greater than the second.**"
   ]
  },
  {
   "cell_type": "code",
   "execution_count": 83,
   "id": "ceb2a504-6a5d-4f50-8d06-13750f9fc039",
   "metadata": {},
   "outputs": [
    {
     "name": "stdout",
     "output_type": "stream",
     "text": [
      "P is grater than Q ?\n",
      " [[ True  True]\n",
      " [ True  True]]\n"
     ]
    }
   ],
   "source": [
    "P=np.array([[10,20],[30,40]])\n",
    "Q=np.array([[5,6],[7,8]])\n",
    "greater_matrix=P > Q # to find the first matrix is greater than second matrix\n",
    "print(\"P is grater than Q ?\\n\",greater_matrix)\n"
   ]
  },
  {
   "cell_type": "markdown",
   "id": "70766948-cef5-4665-86c3-67227db03adc",
   "metadata": {},
   "source": [
    "**Q.9 create a 3X3 matrix with reandom integer(0-20).count how many element greater than 10.**"
   ]
  },
  {
   "cell_type": "code",
   "execution_count": 85,
   "id": "b15bfd32-8dbe-4f88-92b7-d24306a168cb",
   "metadata": {},
   "outputs": [
    {
     "name": "stdout",
     "output_type": "stream",
     "text": [
      "[[10 16 20]\n",
      " [16 16  6]\n",
      " [ 6  4  9]]\n",
      "Count of element greater than 10 is 4\n"
     ]
    }
   ],
   "source": [
    "M=np.random.randint(0,21,size=(3,3))\n",
    "print(M)\n",
    "count=np.sum(M > 10) # to count the element greater than 10\n",
    "print(\"Count of element greater than 10 is\",count)\n"
   ]
  },
  {
   "cell_type": "markdown",
   "id": "27c248a7-61fa-403f-b873-df236a8d6c62",
   "metadata": {},
   "source": [
    "**Q.10 convert a 2D array to a 1D array(flatten it).**"
   ]
  },
  {
   "cell_type": "code",
   "execution_count": 87,
   "id": "c6fbe8ad-ec95-40d5-8448-a4350faaba85",
   "metadata": {},
   "outputs": [
    {
     "name": "stdout",
     "output_type": "stream",
     "text": [
      "[1 2 3 4 5 6]\n"
     ]
    }
   ],
   "source": [
    "g=np.array([[1,2,3],[4,5,6]])\n",
    "flatten_array=g.flatten() # flatten is convert to 2D array into 1D array.\n",
    "print(flatten_array)"
   ]
  },
  {
   "cell_type": "markdown",
   "id": "39e2b5fc-ac3e-48d1-92d4-20c2c6bdc05b",
   "metadata": {},
   "source": [
    "# Permutation in numpy\n",
    "- use **np.random.permutation**\n",
    "- it shuffle the element of the given range or array.return a new order./ we can arrange the element\n",
    "\n",
    "\n",
    "# Permutation Vs Shuffle\n",
    "**1.permutation : In permutation we can create a copy of list and arrange (shuffle) the element  without any changes in original lists.**\n",
    "\n",
    "**2.Shuffle : The shuffle the element with changes in original lists.**"
   ]
  },
  {
   "cell_type": "markdown",
   "id": "6c9d9ec6-11be-465e-bc7c-0840f825ffe6",
   "metadata": {},
   "source": [
    "**Q.1 Given arr = np.array([1, 2, 3, 4]),shuffle the array without modifying the original.**"
   ]
  },
  {
   "cell_type": "code",
   "execution_count": 89,
   "id": "02941dbe-9e68-43b3-860e-7bc79d849a24",
   "metadata": {},
   "outputs": [
    {
     "name": "stdout",
     "output_type": "stream",
     "text": [
      "[1 2 3 4]\n",
      "[2 1 3 4]\n"
     ]
    }
   ],
   "source": [
    "arr = np.array([1, 2, 3, 4])\n",
    "print(arr)\n",
    "shuffled_arr = np.random.permutation(arr)\n",
    "print(shuffled_arr)"
   ]
  },
  {
   "cell_type": "markdown",
   "id": "7c2abea1-d4f6-4636-9774-6dc2951466b2",
   "metadata": {},
   "source": [
    "**Q.2 Write a program to: Create an array of numbers from 1 to 10.Generate a new array that is a randomly permuted version of the original.\n",
    "Print both arrays to show that the original is unchanged.**"
   ]
  },
  {
   "cell_type": "code",
   "execution_count": 91,
   "id": "9cd821e6-22fe-40ac-9394-2eaff5e3cd45",
   "metadata": {},
   "outputs": [
    {
     "name": "stdout",
     "output_type": "stream",
     "text": [
      "[ 1  2  3  4  5  6  7  8  9 10]\n",
      "permutated array is: [ 5  3  9  7  6  4  8  2 10  1]\n"
     ]
    }
   ],
   "source": [
    "a = np.arange(1, 11)\n",
    "print(a)\n",
    "\n",
    "# Generate a new array that is a randomly permuted version of the original\n",
    "permuted_array = np.random.permutation(a)\n",
    "print(\"permutated array is:\",permuted_array)"
   ]
  },
  {
   "cell_type": "markdown",
   "id": "16892f6c-e502-459a-894b-107f55f731b7",
   "metadata": {},
   "source": [
    "# Cumulative sum\n",
    "- In numpy for cumulative sum we use **np.cumsum()**.\n",
    "- It add the element to the next item and return\n",
    "\n",
    "# Cumulative product\n",
    "- In numpy for cumulative product we use **np.cumprod()**.\n",
    "- It multiply the element to the next item and return\n",
    "\n",
    "**In 2D  for rows and column**\n",
    "- **1. (axis=0) column wise**     \n",
    "- **2. (axis=1) row wise**"
   ]
  },
  {
   "cell_type": "markdown",
   "id": "f79fab3f-0c6c-4ddf-99e8-978dc5882df1",
   "metadata": {},
   "source": [
    "**Q.3 Write a program that: Takes a 1D NumPy array of positive integers.Calculates and prints:The cumulative sum (np.cumsum)The cumulative product (np.cumprod)**"
   ]
  },
  {
   "cell_type": "code",
   "execution_count": 93,
   "id": "a4511565-63e1-45c0-8cf9-ae16a4c22fb7",
   "metadata": {},
   "outputs": [
    {
     "name": "stdout",
     "output_type": "stream",
     "text": [
      "[1 2 3 4 5]\n",
      "Cumulative sum: [ 1  3  6 10 15]\n",
      "Cumulative product: [  1   2   6  24 120]\n"
     ]
    }
   ],
   "source": [
    "# Create a 1D NumPy array of positive integers\n",
    "b= np.array([1, 2, 3, 4, 5])\n",
    "print(b)\n",
    "\n",
    "# Calculate the cumulative sum\n",
    "cumulative_sum = np.cumsum(b) # 1,1+2=3,3+3=6,6+4=10,10+5=15\n",
    "print(\"Cumulative sum:\", cumulative_sum)\n",
    "\n",
    "# Calculate the cumulative product\n",
    "cumulative_product = np.cumprod(b)\n",
    "print(\"Cumulative product:\", cumulative_product)"
   ]
  },
  {
   "cell_type": "markdown",
   "id": "460f0712-f15f-459e-8bdf-296c5d111274",
   "metadata": {},
   "source": [
    "**Q.4 Take a 3D array, Write a program to compute: Cumulative sum along axis 0 . Cumulative product along axis 1**"
   ]
  },
  {
   "cell_type": "code",
   "execution_count": 95,
   "id": "d891bd13-7b13-48c6-be41-01cab929b7ec",
   "metadata": {},
   "outputs": [
    {
     "name": "stdout",
     "output_type": "stream",
     "text": [
      "[[[ 1  2  3]\n",
      "  [ 4  5  6]\n",
      "  [ 7  8  9]]\n",
      "\n",
      " [[10 11 12]\n",
      "  [13 14 15]\n",
      "  [16 17 18]]\n",
      "\n",
      " [[19 20 21]\n",
      "  [22 23 24]\n",
      "  [25 26 27]]]\n",
      "\n",
      "Cumulative sum along axis 0:\n",
      "[[[ 1  2  3]\n",
      "  [ 4  5  6]\n",
      "  [ 7  8  9]]\n",
      "\n",
      " [[11 13 15]\n",
      "  [17 19 21]\n",
      "  [23 25 27]]\n",
      "\n",
      " [[30 33 36]\n",
      "  [39 42 45]\n",
      "  [48 51 54]]]\n",
      "\n",
      "Cumulative product along axis 1:\n",
      "[[[    1     2     3]\n",
      "  [    4    10    18]\n",
      "  [   28    80   162]]\n",
      "\n",
      " [[   10    11    12]\n",
      "  [  130   154   180]\n",
      "  [ 2080  2618  3240]]\n",
      "\n",
      " [[   19    20    21]\n",
      "  [  418   460   504]\n",
      "  [10450 11960 13608]]]\n"
     ]
    }
   ],
   "source": [
    "# Create a 3D NumPy array\n",
    "c = np.array([\n",
    "    [[1, 2, 3], [4, 5, 6], [7, 8, 9]],\n",
    "    [[10, 11, 12], [13, 14, 15], [16, 17, 18]],\n",
    "    [[19, 20, 21], [22, 23, 24], [25, 26, 27]]\n",
    "])\n",
    "print(c)\n",
    "# Compute the cumulative sum along axis 0\n",
    "cumulative_sum = np.cumsum(c, axis=0)\n",
    "\n",
    "print(\"\\nCumulative sum along axis 0:\")\n",
    "print(cumulative_sum)\n",
    "\n",
    "# Compute the cumulative product along axis 1\n",
    "cumulative_product = np.cumprod(c, axis=1)\n",
    "print(\"\\nCumulative product along axis 1:\")\n",
    "print(cumulative_product)"
   ]
  },
  {
   "cell_type": "markdown",
   "id": "a5fd04b9-1566-459b-bb8a-4a6433714cae",
   "metadata": {},
   "source": [
    "# logical condition in numpy\n",
    "**1.and**: \n",
    "- use np.logical_and(conditions).\n",
    "- use and condition it return true only if the both condition are true\n",
    "\n",
    "**2.or**: \n",
    "- use np.logical_or(conditions)\n",
    "- use or condition ,it return true when one condition is true.\n",
    "\n",
    "**3.not**:\n",
    "- use np.logical_not(conditions).\n",
    "- it reverse the output **true->false** and **false->true**\n",
    "\n",
    "**4.any**:\n",
    "- use np.any(condition).\n",
    "- if any one element  is true then it return true.\n",
    "\n",
    "**5.all**:\n",
    "- use np.all(condition).\n",
    "- all condtion are met(true) then return true"
   ]
  },
  {
   "cell_type": "markdown",
   "id": "82d05306-c832-4bb2-9088-1a80e52faed3",
   "metadata": {},
   "source": [
    "# Filtering in numpy\n",
    "- works as logical and instead of returning boolean values it return real values\n",
    "\n",
    "**1. & (and)**: \n",
    "- Return the element that meets both the specified condition\n",
    "\n",
    "**2.| (or)**:\n",
    "- Return the element that meets either one of the specified condiotion.\n",
    "\n",
    "**3.~ (not)**:\n",
    "- Return the element which meets the opposite condition of the specified condition\n",
    "\n",
    "**4.where**:\n",
    "- It return the index base on the condition.\n",
    "\n"
   ]
  },
  {
   "cell_type": "markdown",
   "id": "7718da45-e516-4757-bf3b-6df3ab013550",
   "metadata": {},
   "source": [
    "**Q.5 Take an array of student scores and Write a program to: Print all scores greater than 60 and less than 85.\n",
    "Replace all scores less than 50 with 0 using logical indexing.**"
   ]
  },
  {
   "cell_type": "code",
   "execution_count": 97,
   "id": "5d55c941-8484-4531-b2f0-379f4316e9f9",
   "metadata": {},
   "outputs": [
    {
     "name": "stdout",
     "output_type": "stream",
     "text": [
      "Scores between 60 and 85:\n",
      "[66 80 70 75 82]\n",
      "\n",
      "Updated scores:\n",
      "[ 0 66 80  0 70 95 56  0 75 82]\n"
     ]
    }
   ],
   "source": [
    "# Create an array of student scores\n",
    "scores = np.array([45, 66, 80, 35, 70, 95, 56, 49, 75, 82])\n",
    "\n",
    "# Print all scores greater than 60 and less than 85\n",
    "print(\"Scores between 60 and 85:\")\n",
    "print(scores[(scores > 60) & (scores < 85)])\n",
    "\n",
    "# Replace all scores less than 50 with 0 using logical indexing\n",
    "scores[scores < 50] = 0\n",
    "print(\"\\nUpdated scores:\")\n",
    "print(scores)"
   ]
  },
  {
   "cell_type": "markdown",
   "id": "ac792dce-c699-4671-b806-ba89745027e9",
   "metadata": {},
   "source": [
    "# percentile and Quantile\n",
    "- In percentile we mostly use 25 th,50 th,75 th percentile. we use **np.percentile()**\n",
    "- For quantile we give value in float(0.25). use **np.quantile()**"
   ]
  },
  {
   "cell_type": "markdown",
   "id": "6686c71a-8370-447c-9f9c-250ccd8d9e15",
   "metadata": {},
   "source": [
    "**Q.6 6. Take an array a = [12,15,16,22,21,35,65,70,85,100,40]. Write a program to: Compute the median . Compute the 25th, 50th, and 75th percentiles\n",
    "Compute the 0.1, 0.5, and 0.9 quantiles.**"
   ]
  },
  {
   "cell_type": "code",
   "execution_count": 141,
   "id": "419d4abc-6737-43a8-a098-de830d4805d1",
   "metadata": {},
   "outputs": [
    {
     "name": "stdout",
     "output_type": "stream",
     "text": [
      "Median: 35.0\n",
      "The 25 th percentile is: 18.5\n",
      "The 50 the percentile is: 35.0\n",
      "The 75 th percentile is: 67.5\n",
      "The quantile of 0.1 is: 15.0\n",
      "The quantile of 0.5 is: 35.0\n",
      "The quantile 0.9 is: 85.0\n"
     ]
    }
   ],
   "source": [
    "# Create an array\n",
    "a = np.array([12, 15, 16, 22, 21, 35, 65, 70, 85, 100, 40])\n",
    "\n",
    "# Compute the median\n",
    "median = np.median(a)\n",
    "print(\"Median:\", median)\n",
    "print(\"The 25 th percentile is:\",np.percentile(a,25))\n",
    "print(\"The 50 the percentile is:\",np.percentile(a,50)) \n",
    "print(\"The 75 th percentile is:\",np.percentile(a,75))\n",
    "\n",
    "print(\"The quantile of 0.1 is:\",np.quantile(a,0.1)) \n",
    "print(\"The quantile of 0.5 is:\",np.quantile(a,0.5)) \n",
    "print(\"The quantile 0.9 is:\", np.quantile(a,0.9)) \n",
    "\n"
   ]
  },
  {
   "cell_type": "code",
   "execution_count": null,
   "id": "11ab30e5-764c-4ced-a144-c34748488af1",
   "metadata": {},
   "outputs": [],
   "source": []
  }
 ],
 "metadata": {
  "kernelspec": {
   "display_name": "Python [conda env:base] *",
   "language": "python",
   "name": "conda-base-py"
  },
  "language_info": {
   "codemirror_mode": {
    "name": "ipython",
    "version": 3
   },
   "file_extension": ".py",
   "mimetype": "text/x-python",
   "name": "python",
   "nbconvert_exporter": "python",
   "pygments_lexer": "ipython3",
   "version": "3.12.7"
  }
 },
 "nbformat": 4,
 "nbformat_minor": 5
}
