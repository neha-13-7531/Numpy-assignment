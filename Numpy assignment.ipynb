{
 "cells": [
  {
   "cell_type": "markdown",
   "id": "32da8f8b-e4a0-49f9-a1df-ddc361e47721",
   "metadata": {},
   "source": [
    "# **Numpy**"
   ]
  },
  {
   "cell_type": "markdown",
   "id": "7cd21af5-5004-43ab-a3a5-67a513792025",
   "metadata": {},
   "source": [
    "# **What is Numpy ?**\n",
    "- The numpy stands for Numerical python.\n",
    "- numpy is the library in python, used for mathematical calculations.\n",
    "- It provide support for large multi-dimensional **arrays** and matrices."
   ]
  },
  {
   "cell_type": "markdown",
   "id": "c6e3ac79-4695-4478-a580-a4a919727028",
   "metadata": {},
   "source": [
    "# Data structures in numpy\n",
    "**1.N-dimensional array(n-D array):**\n",
    "- The n-D array have N dimensions.\n",
    "- n-D array can represent Vectors(1-D array),matrices(2-D array), or tensors(3-D array).\n",
    "- The n-D array are homogeneous(It contain only similar type of data).\n",
    "- n-D array are have fixed size.once we created we cannot change size of this array.\n",
    "\n",
    "**2.Structured array**:\n",
    "- It is also known as **Record array**.\n",
    "- structured array are heterogeneous array, i.e it stores the different types of data.\n",
    "\n",
    "**Masked array**:\n",
    "- These arrays are useful to deal with datasets contaning missing values,invalid data or placeholder."
   ]
  },
  {
   "cell_type": "markdown",
   "id": "90e623a7-7bd2-403b-b215-a2c682be98f8",
   "metadata": {},
   "source": [
    "# **Data types in structured arrays.**\n",
    "\n",
    "**1.'i' or 'i4'**: It used as integer(int).\n",
    "\n",
    "**2.'U10'** : It is used as a string(str).\n",
    "\n",
    "**3. 'f' or 'f8'** : It is used as a float.\n",
    "\n",
    "**4.'bool'** : It is used as a boolean.i.e give  output as true /false."
   ]
  },
  {
   "cell_type": "markdown",
   "id": "fe42f18b-e5e1-447d-bb29-99620e9aadf2",
   "metadata": {},
   "source": [
    "# **Vectors** \n",
    "- It is  one dimensional array (1-D array).\n",
    "\n",
    "# **Matrix**\n",
    "- It is also known as **2-D tensor**. i.e arrays with rows  columns.\n",
    "\n",
    "# **Tensor**\n",
    "- It is known as n-D array.i.e it have 3 or more dimensions.\n"
   ]
  },
  {
   "cell_type": "markdown",
   "id": "f56b67c2-57be-4a61-ad13-036538183c73",
   "metadata": {},
   "source": [
    "# How to import numpy ?\n",
    "- use **import numpy as np**"
   ]
  },
  {
   "cell_type": "markdown",
   "id": "ff4a626d-d868-44b7-9538-94b298f208d7",
   "metadata": {},
   "source": [
    "**import library**"
   ]
  },
  {
   "cell_type": "code",
   "execution_count": 12,
   "id": "3e2bac5d-67d4-4eb3-ab77-4816b83cb576",
   "metadata": {},
   "outputs": [],
   "source": [
    "import numpy as np"
   ]
  },
  {
   "cell_type": "markdown",
   "id": "48640129-382b-4788-b650-acf22adfd650",
   "metadata": {},
   "source": [
    "**Q.1 create a 2D array of shape(3,4) filled with all 1s.**"
   ]
  },
  {
   "cell_type": "markdown",
   "id": "3c8938a3-91fe-4859-839f-0b09a37be4f3",
   "metadata": {},
   "source": [
    "**1.ones**: ***To create an array filled with 1. mention the shape of array.(rows,column)***"
   ]
  },
  {
   "cell_type": "code",
   "execution_count": 15,
   "id": "eb0f831f-1052-43bf-a6e4-30f052dc28d2",
   "metadata": {},
   "outputs": [
    {
     "name": "stdout",
     "output_type": "stream",
     "text": [
      "[[1. 1. 1. 1.]\n",
      " [1. 1. 1. 1.]\n",
      " [1. 1. 1. 1.]]\n"
     ]
    }
   ],
   "source": [
    "a= np.ones((3,4)) # it craete array filled with all 1s \n",
    "print(a)"
   ]
  },
  {
   "cell_type": "markdown",
   "id": "c7d2a2f9-4520-44a5-ae9e-d5d73bb6f51e",
   "metadata": {},
   "source": [
    "**Q.2 create a 1D numpy array with values from 10 to 25 with a step of 4.**"
   ]
  },
  {
   "cell_type": "markdown",
   "id": "5cb3355b-6dff-469d-9fd2-33dfa4f5cbe3",
   "metadata": {},
   "source": [
    "**2.arange** : ***To create an array with evenly specified in the range.***"
   ]
  },
  {
   "cell_type": "code",
   "execution_count": 18,
   "id": "293813de-4cab-4d7f-9dec-abd13c98e420",
   "metadata": {},
   "outputs": [
    {
     "name": "stdout",
     "output_type": "stream",
     "text": [
      "[10 14 18 22]\n"
     ]
    }
   ],
   "source": [
    "b=np.arange(10,25,4) # to arrange the matrix use arange(start,stop,step).create an array with  evenly specified in the range\n",
    "print(b)            # it display in integer value"
   ]
  },
  {
   "cell_type": "markdown",
   "id": "98aaa8b4-0e75-4f85-a7df-55184a3ee228",
   "metadata": {},
   "source": [
    "**Q.3 Create a 4x4 identity matrix.**"
   ]
  },
  {
   "cell_type": "markdown",
   "id": "d793c804-10eb-407d-bd36-e2dd13ee9ff9",
   "metadata": {},
   "source": [
    "**3.identity** : ***It use **eye()** method To create identity matrix(specify number of rows).***\n"
   ]
  },
  {
   "cell_type": "code",
   "execution_count": 21,
   "id": "6fe80b78-b6fc-48ac-a359-acdc3122399f",
   "metadata": {},
   "outputs": [
    {
     "name": "stdout",
     "output_type": "stream",
     "text": [
      "[[1. 0. 0. 0.]\n",
      " [0. 1. 0. 0.]\n",
      " [0. 0. 1. 0.]\n",
      " [0. 0. 0. 1.]]\n"
     ]
    }
   ],
   "source": [
    "c=np.eye(4) # to create identity matrix(specify number of rows)\n",
    "print(c)"
   ]
  },
  {
   "cell_type": "markdown",
   "id": "e937793d-a9aa-4188-aaeb-8573afcb6238",
   "metadata": {},
   "source": [
    "**Q.4 create an array with 5 values evenly spaced between 0 and 1.**"
   ]
  },
  {
   "cell_type": "markdown",
   "id": "1ab31b73-1cea-4b69-97d1-b79c8aa20fb9",
   "metadata": {},
   "source": [
    "**4.linspace** : ***Create an array of evenly spaced number(specified interval-(display in float)).***"
   ]
  },
  {
   "cell_type": "code",
   "execution_count": 24,
   "id": "640ad2a8-04ee-417f-9885-e142af3ae337",
   "metadata": {},
   "outputs": [
    {
     "name": "stdout",
     "output_type": "stream",
     "text": [
      "[0.   0.25 0.5  0.75 1.  ]\n"
     ]
    }
   ],
   "source": [
    "d=np.linspace(0,1,5) # create an array of evenly spaced number(specified interval-(display in float)) linspace(start,stop,step)\n",
    "print(d)"
   ]
  },
  {
   "cell_type": "markdown",
   "id": "e3e1b7e1-ed31-4412-aa4a-4421af4e814e",
   "metadata": {},
   "source": [
    "**Q.5 create a 1D numpy array with values from 10 to 50 with a step of 5.**"
   ]
  },
  {
   "cell_type": "code",
   "execution_count": 26,
   "id": "d39a32cd-4f36-49ae-a272-c1e2369b6caf",
   "metadata": {},
   "outputs": [
    {
     "name": "stdout",
     "output_type": "stream",
     "text": [
      "[10 15 20 25 30 35 40 45]\n"
     ]
    }
   ],
   "source": [
    "e=np.arange(10,50,5) # to arrange the matrix use arange(start,stop,step).create an array with  evenly specified in the range\n",
    "print(e)"
   ]
  },
  {
   "cell_type": "markdown",
   "id": "3f9585b6-cd5a-48ad-810b-bd8eb1272629",
   "metadata": {},
   "source": [
    "**Q.6 craete a 3X3 array with random integer between 10 and 99.** "
   ]
  },
  {
   "cell_type": "markdown",
   "id": "6d74824f-590d-4054-995b-817f548ad33c",
   "metadata": {},
   "source": [
    "**5.size**: ***To give size of array.***"
   ]
  },
  {
   "cell_type": "code",
   "execution_count": 29,
   "id": "509c82d9-664f-4d5d-bb73-7085cc28f19c",
   "metadata": {},
   "outputs": [
    {
     "name": "stdout",
     "output_type": "stream",
     "text": [
      "[[79 57 59]\n",
      " [87 55 27]\n",
      " [90 95 38]]\n"
     ]
    }
   ],
   "source": [
    "f=np.random.randint(10,99,size=(3,3)) # random.randint () use for it select number in randomly.\n",
    "print(f)"
   ]
  },
  {
   "cell_type": "markdown",
   "id": "5ba3f797-fb43-4053-9802-7358b858fc76",
   "metadata": {},
   "source": [
    "**Q.7 create an array of shape(2,3) filled with zeros,and another filled with sevens.**"
   ]
  },
  {
   "cell_type": "code",
   "execution_count": 31,
   "id": "744f3b6f-50da-4a49-abe3-8a69e0f6e8bd",
   "metadata": {},
   "outputs": [
    {
     "name": "stdout",
     "output_type": "stream",
     "text": [
      "Zero array is:\n",
      " [[0. 0. 0.]\n",
      " [0. 0. 0.]]\n",
      "Sevens array is:\n",
      " [[7 7 7]\n",
      " [7 7 7]]\n"
     ]
    }
   ],
   "source": [
    "zero_array=np.zeros((2,3)) # to filled with zeros.\n",
    "\n",
    "sevens_array=np.full((2,3),7) # full() use to filled with any number except 1 or 0\n",
    "print(\"Zero array is:\\n\",zero_array)\n",
    "print(\"Sevens array is:\\n\",sevens_array)"
   ]
  },
  {
   "cell_type": "markdown",
   "id": "89f70e16-b2bf-41ca-8e22-4103fd743f0f",
   "metadata": {},
   "source": [
    "**Q.8 Create an array with values from 1 to 12 and reshape it to a 3X4 matrix.** "
   ]
  },
  {
   "cell_type": "code",
   "execution_count": 33,
   "id": "4fbcc77f-58b9-4c67-8658-e0cb1e0322bb",
   "metadata": {},
   "outputs": [
    {
     "name": "stdout",
     "output_type": "stream",
     "text": [
      "[[ 1  2  3  4]\n",
      " [ 5  6  7  8]\n",
      " [ 9 10 11 12]]\n"
     ]
    }
   ],
   "source": [
    "h=np.arange(1,13).reshape(3,4) #  reshape use for it rearrange the element to fit in new shape. \n",
    "print(h)"
   ]
  },
  {
   "cell_type": "markdown",
   "id": "f6801734-85e7-4467-9624-fd52357cf7a3",
   "metadata": {},
   "source": [
    "**Q.9 Create a 2D array of shape (5,2) and display its attributes.**"
   ]
  },
  {
   "cell_type": "code",
   "execution_count": 35,
   "id": "a55acd79-44fb-4aff-b84d-631150efbefb",
   "metadata": {},
   "outputs": [
    {
     "name": "stdout",
     "output_type": "stream",
     "text": [
      "[[ 3 10]\n",
      " [14  7]\n",
      " [ 5  7]\n",
      " [ 2  9]\n",
      " [14  5]]\n",
      "Dimensions of array is: 2\n",
      "The shape of array is: (5, 2)\n",
      "The Data type of array is: int32\n"
     ]
    }
   ],
   "source": [
    "p=np.random.randint(1,15,size=(5,2)) # create array it take random numbers between 1 to 15\n",
    "print(p)\n",
    "\n",
    "p.ndim # to find dimension of array\n",
    "print(\"Dimensions of array is:\",p.ndim)\n",
    "\n",
    "p.shape # to find shape of an array\n",
    "print(\"The shape of array is:\",p.shape)\n",
    "\n",
    "p.dtype # to get data type of elements in array\n",
    "print(\"The Data type of array is:\",p.dtype)\n",
    "\n",
    "\n",
    "\n",
    "\n",
    "\n"
   ]
  },
  {
   "cell_type": "markdown",
   "id": "d4b0d2df-9fbd-4204-8f4c-a525f1012c4f",
   "metadata": {},
   "source": [
    "**Q.10 create a 2D array and access its element.first element,second element , last element.**"
   ]
  },
  {
   "cell_type": "code",
   "execution_count": 37,
   "id": "99e73525-45dd-4282-9d7e-eadd1b33a647",
   "metadata": {},
   "outputs": [
    {
     "name": "stdout",
     "output_type": "stream",
     "text": [
      "First row: [10 20 30]\n",
      "Second column: [20 50 80]\n",
      "Last element: 90\n"
     ]
    }
   ],
   "source": [
    "x = np.array([[10, 20, 30], [40, 50, 60], [70, 80, 90]]) # create 2D array\n",
    "\n",
    "print(\"First row:\", x[0]) # to get first element in array\n",
    "print(\"Second column:\", x[:, 1])  # to get second element in the array\n",
    "print(\"Last element:\", x[-1, -1]) # to get last elements in the array (-1 for last rows,and last column)\n"
   ]
  },
  {
   "cell_type": "markdown",
   "id": "990a1fd4-1754-48e9-bdb0-0232d032ccba",
   "metadata": {},
   "source": [
    "**Q.1 Create a 1D array of numbers from 0 to 9.**"
   ]
  },
  {
   "cell_type": "code",
   "execution_count": 39,
   "id": "4c49ca13-f265-4708-9e1c-a95af6d51375",
   "metadata": {},
   "outputs": [
    {
     "name": "stdout",
     "output_type": "stream",
     "text": [
      "[0 1 2 3 4 5 6 7 8]\n"
     ]
    }
   ],
   "source": [
    "array1=np.arange(0,9)\n",
    "print(array1)"
   ]
  },
  {
   "cell_type": "markdown",
   "id": "2ddf7856-b717-4999-af5b-2ce76add27bf",
   "metadata": {},
   "source": [
    "**Q.2 Find the mean, median, standard deviation, and sum of elements in an array.**"
   ]
  },
  {
   "cell_type": "markdown",
   "id": "c2c647bc-78d3-4167-b147-9eadcf826e0f",
   "metadata": {},
   "source": [
    "# Mathematical operation on arrays\n",
    "\n",
    "**1.mean()**: ***To find mean(average) of all the items.***\n",
    "\n",
    "**2.std()** : ***To find standard deviation of the all items.***\n",
    "\n",
    "**3.median()** : ***To find median of items.***\n",
    "\n",
    "**4.sum()**: ***To find sum(total) of all items.***\n",
    "\n",
    "**5.min()** : ***To find minimum value in items.***\n",
    "\n",
    "**6.max()** : ***To find maximum value in items.***\n",
    "\n",
    "**7.argmax()** :***It return index value of max value.***\n",
    "\n",
    "**8.argmin()** :***It return index value of min value.***"
   ]
  },
  {
   "cell_type": "code",
   "execution_count": 62,
   "id": "76ca6b9c-e097-4dc1-86de-d479c41262ae",
   "metadata": {},
   "outputs": [
    {
     "name": "stdout",
     "output_type": "stream",
     "text": [
      "[10 20 30 40 50 60]\n",
      "Mean 35.0\n",
      "Median : 17.07825127659933\n",
      "standard deviation: 210\n",
      "Median: 35.0\n"
     ]
    }
   ],
   "source": [
    "arr=np.array([10,20,30,40,50,60])\n",
    "print(arr)\n",
    "\n",
    "print(\"Mean\",np.mean(arr)) # to find mean(average) of all items\n",
    "print(\"Median :\",np.std(arr)) # to find standard deviation of all items\n",
    "print(\"standard deviation:\",np.sum(arr)) # to get sum(total) of all items\n",
    "print(\"Median:\",np.median(arr)) # to get median of all items"
   ]
  },
  {
   "cell_type": "markdown",
   "id": "afcd8575-7c3c-4aaf-8983-6c5e150b713f",
   "metadata": {},
   "source": [
    "**Q.3 Find the maximum and minimum values in an array and their indices.**"
   ]
  },
  {
   "cell_type": "code",
   "execution_count": 68,
   "id": "3119a378-5843-403e-8a8c-927b0cc57678",
   "metadata": {},
   "outputs": [
    {
     "name": "stdout",
     "output_type": "stream",
     "text": [
      "[10 20 30 40 50 60]\n",
      "Min: 10\n",
      "Max: 60\n",
      "Index of min value: 0\n",
      "Index of max value: 5\n"
     ]
    }
   ],
   "source": [
    "arr=np.array([10,20,30,40,50,60])\n",
    "print(arr)\n",
    "\n",
    "print(\"Min:\",np.min(arr)) # to get min value of items\n",
    "print(\"Max:\",np.max(arr)) # to get max value of items\n",
    " \n",
    "print(\"Index of min value:\",np.argmin(arr)) # to get index value of min value\n",
    "print(\"Index of max value:\",np.argmax(arr)) # to get index value of max value"
   ]
  },
  {
   "cell_type": "markdown",
   "id": "95fde3b3-f4dd-4842-8de4-9496f442db85",
   "metadata": {},
   "source": [
    "# Random Number Methods\n",
    "\n",
    "**1.random.randint()** : ***generate  and return an array of the given size,and the number in th range.***\n",
    "\n",
    "**2.random.rand(size)** : ***use  return in float,it return 1D array with randomvalues in the range (0-1).***\n",
    "\n",
    "**3.random.randn(rows,column)** : ***value range is(-infinity to +infinity)  each element mean is 0 and SD=1 .***"
   ]
  },
  {
   "cell_type": "markdown",
   "id": "518d298f-0280-4196-be25-32bbef03ac7f",
   "metadata": {},
   "source": [
    "**Q.4 Generate a 1D array of 10 random integers between 1 and 100.**"
   ]
  },
  {
   "cell_type": "code",
   "execution_count": 71,
   "id": "67bb60ba-ab4e-4505-8417-6db890c950d8",
   "metadata": {},
   "outputs": [
    {
     "name": "stdout",
     "output_type": "stream",
     "text": [
      "[44 30 70 41 18 94 57  6 95 81]\n"
     ]
    }
   ],
   "source": [
    "random_array=np.random.randint(1,101,10) # to random number in the range\n",
    "print(random_array)"
   ]
  },
  {
   "cell_type": "markdown",
   "id": "fe2bed50-858e-41d3-be4a-7c4df55e9ac0",
   "metadata": {},
   "source": [
    "**Q.5 Create a 3x3 array of random floats.**"
   ]
  },
  {
   "cell_type": "code",
   "execution_count": 75,
   "id": "2ec66b26-7bb4-40c7-aa03-4a6ea57afe1e",
   "metadata": {},
   "outputs": [
    {
     "name": "stdout",
     "output_type": "stream",
     "text": [
      "[[-1.64472468 -1.07971821  1.77621509]\n",
      " [-0.25807993 -0.91005662  0.61373366]\n",
      " [ 1.9914671  -0.51862446  0.97249937]]\n"
     ]
    }
   ],
   "source": [
    "rand_array=np.random.randn(3,3) # to get random float array it  also include negative values range value(-infinity to +infinity),randn generate and return an array with normal distribution\n",
    "print(rand_array)"
   ]
  },
  {
   "cell_type": "markdown",
   "id": "70c0f10f-aedb-49d7-93f3-37948b73a309",
   "metadata": {},
   "source": [
    "**Q.6 Generate 1000 samples from a normal distribution and compute mean and std.**"
   ]
  },
  {
   "cell_type": "code",
   "execution_count": 82,
   "id": "80a2e807-7f92-469b-a072-cf16b8dfd605",
   "metadata": {},
   "outputs": [
    {
     "name": "stdout",
     "output_type": "stream",
     "text": [
      "Mean: nan\n",
      "Standard deviation: nan\n"
     ]
    }
   ],
   "source": [
    "sample=np.random.randn(0,1,1000)\n",
    "\n",
    "\n",
    "print(\"Mean:\",np.mean(sample))\n",
    "print(\"Standard deviation:\",np.std(sample))"
   ]
  },
  {
   "cell_type": "markdown",
   "id": "591f6a44-3a81-4656-b7ca-6571d2280618",
   "metadata": {},
   "source": [
    "# Array manipulation\n",
    "\n",
    "**1.np.sort()** : ***Return the sorted values in the array.default sorting is in ascending order.***\n",
    "\n",
    "**2.np.unique()** :***Return array  an sorted with unique values.***\n",
    "\n",
    "**3.np.concatenate()** :***Return the mergerd array, can join the two or more than two array.***\n"
   ]
  },
  {
   "cell_type": "markdown",
   "id": "91a8eaa0-7b9b-4156-820e-3bbfd2f2f86e",
   "metadata": {},
   "source": [
    "**Q.7 Get unique values from an array and their counts.**"
   ]
  },
  {
   "cell_type": "code",
   "execution_count": 88,
   "id": "7f3646f4-8bac-456d-9331-8db8e200eaa7",
   "metadata": {},
   "outputs": [
    {
     "name": "stdout",
     "output_type": "stream",
     "text": [
      "[1 2 3 4 7 5 3 4]\n",
      "Unique values are: [1 2 3 4 5 7]\n"
     ]
    }
   ],
   "source": [
    "a=np.array([1,2,3,4,7,5,3,4])\n",
    "print(a)\n",
    "\n",
    "print(\"Unique values are:\",np.unique(a))\n"
   ]
  },
  {
   "cell_type": "markdown",
   "id": "6c347fca-6ea3-4316-afbb-702633566390",
   "metadata": {},
   "source": [
    "**Q.8 Generate a 2D array of shape (5, 5) from a normal distribution with mean=50 and std=10.**"
   ]
  },
  {
   "cell_type": "code",
   "execution_count": 95,
   "id": "9007814e-502c-495b-ae5e-fec39cd0e6ba",
   "metadata": {},
   "outputs": [
    {
     "name": "stdout",
     "output_type": "stream",
     "text": [
      "[[50.48647579 58.52790824 47.79628229 35.60139579 38.15622305]\n",
      " [39.69071467 53.40945561 39.68359384 48.27196384 50.85895038]\n",
      " [47.41798237 42.64167564 31.61763078 53.77420866 29.94269673]\n",
      " [48.58606962 16.95256112 51.81256097 62.44355222 62.0373346 ]\n",
      " [42.79644857 36.28264383 38.66270994 43.71226949 54.40520252]]\n"
     ]
    }
   ],
   "source": [
    "mean=50\n",
    "std=10\n",
    "v=np.random.randn(5,5) * std + mean\n",
    "print(v)"
   ]
  },
  {
   "cell_type": "markdown",
   "id": "ce881df7-906f-44c6-b933-74f9bbfa7fc9",
   "metadata": {},
   "source": [
    "**Q.9 Create a NumPy array of even numbers from 2 to 20.**"
   ]
  },
  {
   "cell_type": "code",
   "execution_count": 98,
   "id": "f2afae54-5f3e-4d4a-a8fa-02756a5cdce7",
   "metadata": {},
   "outputs": [
    {
     "name": "stdout",
     "output_type": "stream",
     "text": [
      "Even array is: [ 2  4  6  8 10 12 14 16 18]\n"
     ]
    }
   ],
   "source": [
    "even_array=np.arange(2,20,2)\n",
    "print(\"Even array is:\",even_array)"
   ]
  },
  {
   "cell_type": "markdown",
   "id": "97a9f0e0-6010-4df5-b685-f89d4dec0e20",
   "metadata": {},
   "source": [
    "**Q.10 Find the shape, size, and data type of the array a = np.array([[1, 2], [3, 4]]).**"
   ]
  },
  {
   "cell_type": "code",
   "execution_count": 107,
   "id": "8a8d7ad8-7a5e-42fd-a326-3e4a87eef7d3",
   "metadata": {},
   "outputs": [
    {
     "name": "stdout",
     "output_type": "stream",
     "text": [
      "Shape of array: (2, 2)\n",
      "Size of array: 4\n",
      "Data types of array: int32\n"
     ]
    }
   ],
   "source": [
    "a=np.array([[1,2],[3,4]])\n",
    "print(\"Shape of array:\",a.shape) # to get shape of array\n",
    "print(\"Size of array:\",a.size) # to get size of an array \n",
    "print(\"Data types of array:\",a.dtype) # to get data types of array\n",
    "\n",
    "\n"
   ]
  },
  {
   "cell_type": "markdown",
   "id": "6872aa59-25af-46d8-a98a-3293c151e662",
   "metadata": {},
   "source": [
    "**Q.11 Generate a 1D array of 5 random numbers between 0 and 1.**"
   ]
  },
  {
   "cell_type": "code",
   "execution_count": 116,
   "id": "417d0191-f269-4306-8e69-384588df22b1",
   "metadata": {},
   "outputs": [
    {
     "name": "stdout",
     "output_type": "stream",
     "text": [
      "[0.59733414 0.14060544 0.88917298 0.33712645 0.73508032]\n"
     ]
    }
   ],
   "source": [
    "random_array=np.random.rand(5) # to random number in the range\n",
    "print(random_array)"
   ]
  },
  {
   "cell_type": "markdown",
   "id": "5265b1e0-15ab-47b6-a7dd-faf8ab04005b",
   "metadata": {},
   "source": [
    "**Q.12 Find the maximum, minimum, and sum of elements in the array [5, 8, 2, 9, 1].**"
   ]
  },
  {
   "cell_type": "code",
   "execution_count": 119,
   "id": "4d15d107-513c-4859-93a6-a9103485cf24",
   "metadata": {},
   "outputs": [
    {
     "name": "stdout",
     "output_type": "stream",
     "text": [
      "maximum item: 9\n",
      "minimum item: 1\n",
      "sum of array: 25\n"
     ]
    }
   ],
   "source": [
    "b=np.array([5, 8, 2, 9, 1])\n",
    "print(\"maximum item:\",np.max(b)) # to get maximum item\n",
    "print(\"minimum item:\",np.min(b)) # to get minimum value\n",
    "print(\"sum of array:\",np.sum(b)) # to get sum of items"
   ]
  },
  {
   "cell_type": "markdown",
   "id": "14dc5845-5878-4adb-9a20-97374c680865",
   "metadata": {},
   "source": [
    "**Q.13 Get the first 3 elements from the array [10, 20, 30, 40, 50].**"
   ]
  },
  {
   "cell_type": "code",
   "execution_count": 128,
   "id": "d552bb76-92fa-4e7c-9157-477590765ffa",
   "metadata": {},
   "outputs": [
    {
     "name": "stdout",
     "output_type": "stream",
     "text": [
      "First three elements are: [10 20 30]\n"
     ]
    }
   ],
   "source": [
    "c=np.array([10,20,30,40,50])\n",
    "print(\"First three elements are:\",c[:3]) # c[:3] it return first three element in the array"
   ]
  },
  {
   "cell_type": "code",
   "execution_count": null,
   "id": "a29fb9cc-3435-40fb-9b0d-a51f646088e2",
   "metadata": {},
   "outputs": [],
   "source": []
  }
 ],
 "metadata": {
  "kernelspec": {
   "display_name": "Python [conda env:base] *",
   "language": "python",
   "name": "conda-base-py"
  },
  "language_info": {
   "codemirror_mode": {
    "name": "ipython",
    "version": 3
   },
   "file_extension": ".py",
   "mimetype": "text/x-python",
   "name": "python",
   "nbconvert_exporter": "python",
   "pygments_lexer": "ipython3",
   "version": "3.12.7"
  }
 },
 "nbformat": 4,
 "nbformat_minor": 5
}
